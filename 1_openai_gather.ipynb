{
 "cells": [
  {
   "cell_type": "markdown",
   "id": "6fad9a3e",
   "metadata": {},
   "source": [
    "# Imports"
   ]
  },
  {
   "cell_type": "code",
   "execution_count": 1,
   "id": "63d5cd54",
   "metadata": {},
   "outputs": [],
   "source": [
    "import whisper\n",
    "import pandas as pd"
   ]
  },
  {
   "cell_type": "code",
   "execution_count": 2,
   "id": "1ad1991e",
   "metadata": {},
   "outputs": [],
   "source": [
    "model = whisper.load_model(\"base\")"
   ]
  },
  {
   "cell_type": "markdown",
   "id": "43e015ce",
   "metadata": {},
   "source": [
    "# Transcrever episódios"
   ]
  },
  {
   "cell_type": "code",
   "execution_count": null,
   "id": "71fc792b",
   "metadata": {},
   "outputs": [
    {
     "name": "stdout",
     "output_type": "stream",
     "text": [
      "### === Começando transcrição do programa Nº 405 === ###\n",
      "### === Programa 405 transcrito! Iniciando download === ###\n",
      "### === Processo concluído para o Programa 405 === ###\n"
     ]
    }
   ],
   "source": [
    "start = 385\n",
    "stop = 405\n",
    "for num in range(start, stop+1):\n",
    "    filename = f\"xadrez_verbal_{num}.mp3\"\n",
    "\n",
    "    print(f\"### === Começando transcrição do programa Nº {num} === ###\")\n",
    "    result = model.transcribe(\"Programas/\"+filename, language=\"pt\", fp16=False)\n",
    "\n",
    "    print(f\"### === Programa {num} transcrito! Iniciando download === ###\")\n",
    "    with open(\"TextFiles/\"+filename[:-3]+\"txt\", \"w\", encoding='utf-8') as textfile:\n",
    "        textfile.write(result['text'])\n",
    "\n",
    "    dados = []\n",
    "    for segment in result[\"segments\"]:\n",
    "        dados.append({\n",
    "            \"start_segment\": round(segment[\"start\"], 2),\n",
    "            \"end_segment\": round(segment[\"end\"], 2),\n",
    "            \"text\": segment[\"text\"].strip()\n",
    "        })\n",
    "\n",
    "    df = pd.DataFrame(dados)\n",
    "\n",
    "    df.to_csv(\"Tables/\"+filename[:-3]+\"csv\", index=False, encoding=\"utf-8-sig\")\n",
    "\n",
    "    print(f\"### === Processo concluído para o Programa {num} === ###\")"
   ]
  },
  {
   "cell_type": "code",
   "execution_count": null,
   "id": "95483ebd",
   "metadata": {},
   "outputs": [],
   "source": []
  }
 ],
 "metadata": {
  "kernelspec": {
   "display_name": "xadrezvernalanalysis_venv",
   "language": "python",
   "name": "python3"
  },
  "language_info": {
   "codemirror_mode": {
    "name": "ipython",
    "version": 3
   },
   "file_extension": ".py",
   "mimetype": "text/x-python",
   "name": "python",
   "nbconvert_exporter": "python",
   "pygments_lexer": "ipython3",
   "version": "3.11.9"
  }
 },
 "nbformat": 4,
 "nbformat_minor": 5
}
